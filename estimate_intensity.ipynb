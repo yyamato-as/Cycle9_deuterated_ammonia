{
 "cells": [
  {
   "cell_type": "code",
   "execution_count": 1,
   "metadata": {},
   "outputs": [],
   "source": [
    "import numpy as np\n",
    "import astropy.units as u\n",
    "import astropy.constants as ac \n",
    "from astroquery.splatalogue import Splatalogue\n",
    "import astropy.units as u\n",
    "from helpers import generate_smart_table, LTEmodel, get_CDMS_partition_function\n",
    "\n",
    "ckms = ac.c.to(u.km/u.s).value\n"
   ]
  },
  {
   "cell_type": "code",
   "execution_count": 21,
   "metadata": {},
   "outputs": [
    {
     "name": "stdout",
     "output_type": "stream",
     "text": [
      "[1000.     500.     300.     225.     150.      75.      37.5     18.75\n",
      "    9.375    5.       2.725] [          nan           nan 1766.44451274 1141.03771632  623.73483548\n",
      "  225.42392122   84.10077541   34.80166322   17.21075808   12.53429755\n",
      "   12.01157618]\n",
      "[1000.     500.     300.     225.     150.      75.      37.5     18.75\n",
      "    9.375    5.       2.725] [          nan           nan 3793.14984974 2466.03933723 1346.79036263\n",
      "  481.61499484  174.58221529   64.90826491   25.46243891           nan\n",
      "           nan]\n",
      "[1000.     500.     300.     225.     150.      75.      37.5     18.75\n",
      "    9.375    5.       2.725] [          nan           nan 3970.08678112 2580.47704444 1407.99139304\n",
      "  502.68971537  181.55156628   67.06562867   25.95971977   12.52275835\n",
      "    9.05107159]\n",
      "[1000.     500.     300.     225.     150.      75.      37.5     18.75\n",
      "    9.375    5.       2.725] [          nan           nan 5313.73632119 3455.41329578 1886.68762122\n",
      "  673.13163273  242.54928571   89.43345319   35.28580258           nan\n",
      "           nan]\n"
     ]
    },
    {
     "data": {
      "text/plain": [
       "{'NH3': <Table length=10>\n",
       " Species       QNs       nu0 [GHz]  logA [s^-1] Smu2 [D^2]   g_u    E_u [K]  \n",
       "   str6       str15       float64     float64    float64   float64  float64  \n",
       " ------- --------------- ---------- ----------- ---------- ------- ----------\n",
       "  NH3v=0 10(1)0a-10(2)0a 319.876327    -8.57903    0.00029    42.0 1554.20729\n",
       "  NH3v=0 10(1)0s-10(2)0s 320.195675    -8.37844    0.00046    42.0 1553.63057\n",
       "  NH3v=0   9(1)0a-9(2)0a 322.373122     -8.7561    0.00017    38.0 1272.70067\n",
       "  NH3v=0   9(1)0s-9(2)0s 322.735616    -8.53037    0.00029    38.0 1272.04732\n",
       "  NH3v=0   8(1)0a-8(2)0a 324.663166    -8.95498      9e-05    34.0 1018.58102\n",
       "  NH3v=0   8(1)0s-8(2)0s   325.0697     -8.7038    0.00017    34.0 1017.84992\n",
       "  NH3v=0   7(1)0a-7(2)0a 326.733914    -9.18062      5e-05    30.0   792.0811\n",
       "  NH3v=0   7(1)0s-7(2)0s 327.184356    -8.90431      9e-05    30.0  791.27283\n",
       "  NH3v=0   6(1)0a-6(2)0a  328.57358     -9.4407      2e-05    26.0  593.41213\n",
       "  NH3v=0   6(1)0s-6(2)0s 329.066699    -9.14015      5e-05    26.0  592.52951,\n",
       " 'NH2D': <Table length=16>\n",
       " Species         QNs           nu0 [GHz]  ... Smu2 [D^2]   g_u    E_u [K]  \n",
       "   str4         str27           float64   ...  float64   float64  float64  \n",
       " ------- -------------------- ----------- ... ---------- ------- ----------\n",
       "    NH2D    8(3,5)0s-9(0,9)0a 290.2263825 ...    0.01582   153.0  658.49364\n",
       "    NH2D    7(1,7)0s-6(3,4)0s 292.6279798 ...    0.00257   135.0  406.68295\n",
       "    NH2D  13(9,5)0a-14(6,9)0s 295.2265958 ...    0.01943    81.0 1933.94953\n",
       "    NH2D    9(4,6)0a-9(3,6)0s   296.42466 ...   83.03019   171.0  825.59792\n",
       "    NH2D    6(1,5)0s-5(4,1)0a 298.4394676 ...    0.16723   117.0  351.40165\n",
       "    NH2D    9(5,4)0s-8(7,1)0s 301.8715093 ...    0.00179   171.0  880.08968\n",
       "    NH2D    9(5,4)0a-8(7,1)0a 302.2247493 ...    0.00045    57.0  880.49035\n",
       "    NH2D    3(1,2)0a-3(1,3)0a 305.5261657 ...    0.08397    21.0  109.16449\n",
       "    NH2D    2(2,1)0a-2(1,1)0s   305.72367 ...   15.91768    45.0   72.23733\n",
       "    NH2D    3(1,2)0s-3(1,3)0s  306.019188 ...    0.32627    63.0  108.60589\n",
       "    NH2D 12(11,1)0s-13(9,4)0s 315.8261695 ...     0.0006   225.0 1948.85348\n",
       "    NH2D 12(11,2)0s-13(9,5)0s 315.9460585 ...     0.0006   225.0 1948.85348\n",
       "    NH2D    9(4,5)0a-9(4,6)0a 320.0062175 ...    0.93165   171.0  840.95576\n",
       "    NH2D    6(1,5)0a-5(4,1)0s 320.0997093 ...    0.05542    39.0  351.94177\n",
       "    NH2D    9(4,5)0s-9(4,6)0s 320.8476293 ...    0.38298    57.0  840.55962\n",
       "    NH2D    8(5,4)0s-9(2,8)0a 328.3660532 ...    0.03534   153.0   730.1062,\n",
       " 'NHD2': <Table length=18>\n",
       " Species          QNs           nu0 [GHz]  ... Smu2 [D^2]   g_u    E_u [K]  \n",
       "   str4          str23           float64   ...  float64   float64  float64  \n",
       " ------- --------------------- ----------- ... ---------- ------- ----------\n",
       "    NHD2     9(1,8)0s-8(4,4)0a 290.1793266 ...    0.01929    57.0  574.39248\n",
       "    NHD2     7(4,4)0a-7(3,4)0s   292.81905 ...   15.74292    45.0  441.05711\n",
       "    NHD2    9(5,5)0s-10(2,9)0a 296.2720218 ...    0.01066   114.0  706.83578\n",
       "    NHD2     3(1,2)0a-3(0,3)0a   296.47708 ...    0.89386    42.0   89.10253\n",
       "    NHD2     3(1,2)0s-3(0,3)0s    296.6159 ...    0.47077    21.0   88.86388\n",
       "    NHD2     4(3,2)0a-4(2,2)0s   296.68833 ...   16.09847    54.0  170.29864\n",
       "    NHD2     9(1,8)0a-8(4,4)0s 298.9699709 ...    0.03863   114.0  574.62286\n",
       "    NHD2     5(3,2)0a-5(2,3)0a    309.7163 ...    2.29803    66.0  242.03862\n",
       "    NHD2     5(3,2)0s-5(2,3)0s   309.96221 ...    1.26662    33.0  241.82453\n",
       "    NHD2   12(6,7)0s-12(5,7)0a   318.72836 ...   26.42831    75.0  1196.9963\n",
       "    NHD2     4(3,1)0a-4(2,2)0a 323.9098479 ...    0.67703    27.0  171.83411\n",
       "    NHD2     7(1,7)0s-6(2,4)0s 323.9481445 ...    0.00471    90.0   325.9285\n",
       "    NHD2     4(3,1)0s-4(2,2)0s 324.2170737 ...    1.88175    54.0   171.6198\n",
       "    NHD2 17(8,10)0s-17(7,10)0a 324.4016642 ...   75.10436   210.0 2319.03635\n",
       "    NHD2     7(1,7)0a-6(2,4)0a 324.6320046 ...    0.00209    45.0  326.18261\n",
       "    NHD2   12(6,7)0a-12(5,7)0s    324.7794 ...   52.62772   150.0 1197.12944\n",
       "    NHD2     5(5,1)0s-6(2,5)0a 327.4612388 ...    0.00293    66.0  300.81549\n",
       "    NHD2 17(8,10)0a-17(7,10)0s 328.0982026 ...   37.46317   105.0 2319.11261,\n",
       " 'ND3': <Table length=2>\n",
       " Species      QNs      nu0 [GHz] logA [s^-1] Smu2 [D^2]   g_u   E_u [K] \n",
       "   str3      str13      float64    float64    float64   float64 float64 \n",
       " ------- ------------- --------- ----------- ---------- ------- --------\n",
       "     ND3 1(0)0s-0(0)0a 306.73671    -3.60043    2.24112     3.0 14.79735\n",
       "     ND3 1(0)0a-0(0)0s 309.90949    -3.58706   22.40913    30.0 14.87322}"
      ]
     },
     "execution_count": 21,
     "metadata": {},
     "output_type": "execute_result"
    }
   ],
   "source": [
    "# lines of interest\n",
    "specie = [\n",
    "    \"NH3\",\n",
    "    \"NH2D\",\n",
    "    \"NHD2\",\n",
    "    \"ND3\",\n",
    "]  # spaces are needed to specify the particular ones\n",
    "\n",
    "# frequency range of interest \n",
    "nu_range = (290 * u.GHz, 330 * u.GHz)\n",
    "\n",
    "line_query = {}\n",
    "specie_id = {}\n",
    "pf = {}\n",
    "for s in specie:\n",
    "    if s == \"NH3\":\n",
    "        chemical_name = \" NH3 v=0 \"\n",
    "        pf_name = \"NH3-wHFS\"\n",
    "    else:\n",
    "        chemical_name = \" {:s} \".format(s)\n",
    "        pf_name = s\n",
    "    q = Splatalogue.query_lines(\n",
    "        *nu_range,\n",
    "        chemical_name=chemical_name,\n",
    "        line_lists=[\"CDMS\", \"JPL\"],\n",
    "        show_upper_degeneracy=True,\n",
    "        # line_strengths=[\"ls4\"],\n",
    "        # energy_type=\"eu_k\",\n",
    "    )\n",
    "    # id = Splatalogue.get_species_ids(chemical_name)\n",
    "    # specie_id[s] = id\n",
    "    line_query[s] = generate_smart_table(q)\n",
    "    pf[s] = get_CDMS_partition_function(pf_name)\n",
    "line_query"
   ]
  },
  {
   "cell_type": "code",
   "execution_count": 22,
   "metadata": {},
   "outputs": [
    {
     "data": {
      "text/plain": [
       "{'NH3': <Quantity [0., 0., 0., ..., 0., 0., 0.] mJy / beam>,\n",
       " 'NH2D': <Quantity [0., 0., 0., ..., 0., 0., 0.] mJy / beam>,\n",
       " 'NHD2': <Quantity [0., 0., 0., ..., 0., 0., 0.] mJy / beam>,\n",
       " 'ND3': <Quantity [0., 0., 0., ..., 0., 0., 0.] mJy / beam>}"
      ]
     },
     "execution_count": 22,
     "metadata": {},
     "output_type": "execute_result"
    }
   ],
   "source": [
    "# assume IRAS 16293 abundance\n",
    "\n",
    "N = {'NH3': 5.3e20 * 0.05,\n",
    "     'NH2D': 5.3e20 * 0.05 * 4e-3,\n",
    "     'NHD2': 5.3e20 * 0.05 * 4e-3 * 1.8e-2,\n",
    "     'ND3': 5.3e20 * 0.05 * 4e-3 * 1.8e-2 * 1.8e-2,\n",
    "     #'15NH3': 5.3e20 * 0.05 / 300.\n",
    "    }\n",
    "\n",
    "Tex = 130\n",
    "DeltaV = 2.0\n",
    "\n",
    "beam = 0.7 * u.arcsec # in arcsec\n",
    "source_size = 0.7 * u.arcsec # in arcsec\n",
    "f = source_size ** 2 / (source_size ** 2 + beam ** 2)\n",
    "beam_area = np.pi / (4 * np.log(2)) * beam ** 2\n",
    "\n",
    "# axis\n",
    "nu_min = nu_range[0].value*1e9\n",
    "nu_max = nu_range[1].value*1e9\n",
    "dnu = nu_min / ckms * DeltaV / 5.0\n",
    "nu = np.arange(nu_min, nu_max, dnu)\n",
    "\n",
    "I_all = {}\n",
    "tau_all = {}\n",
    "for s in specie:\n",
    "    I_all_s = 0\n",
    "    tau_all_s = 0\n",
    "    for trans in line_query[s]:\n",
    "        I, t = LTEmodel(\n",
    "            nu=nu,\n",
    "            nu0=trans[\"nu0 [GHz]\"] * 1e9,\n",
    "            g_u=trans[\"g_u\"],\n",
    "            E_u=trans[\"E_u [K]\"],\n",
    "            A_ul=10 ** trans[\"logA [s^-1]\"],\n",
    "            N=N[s],\n",
    "            Tex=Tex,\n",
    "            DeltaV=DeltaV,\n",
    "            f=f,\n",
    "            Q=pf[s](Tex),\n",
    "        )\n",
    "\n",
    "        \n",
    "\n",
    "        I_all_s += I.to(u.Jy/u.sr)\n",
    "        tau_all_s += t\n",
    "    I_all[s] = I_all_s.to(u.mJy/u.beam, equivalencies=u.beam_angular_area(beam_area))\n",
    "    tau_all[s] = tau_all_s\n",
    "I_all"
   ]
  },
  {
   "cell_type": "code",
   "execution_count": 25,
   "metadata": {},
   "outputs": [
    {
     "data": {
      "image/png": "[encoded data removed]",
      "text/plain": [
       "<Figure size 432x576 with 2 Axes>"
      ]
     },
     "metadata": {
      "needs_background": "light"
     },
     "output_type": "display_data"
    }
   ],
   "source": [
    "import matplotlib.pyplot as plt\n",
    "from matplotlib import ticker\n",
    "\n",
    "plt.rcParams['font.size'] = 13\n",
    "\n",
    "fig, ax = plt.subplots(2, 1, figsize=(6, 8), sharex=True)\n",
    "\n",
    "xlim = (290, 330)\n",
    "#xlim = (306, 306.1)\n",
    "color = {'NH3': 'tab:blue',\n",
    "         'NH2D': 'tab:orange',\n",
    "         'NHD2': 'tab:purple',\n",
    "         \"ND3\": \"tab:green\"}\n",
    "\n",
    "label = {'NH3': 'NH$_3$',\n",
    "         'NH2D': 'NH$_2$D',\n",
    "         'NHD2': 'NHD$_2$',\n",
    "         'ND3': 'ND$_3$'}\n",
    "\n",
    "for s in specie:\n",
    "    # intenisty\n",
    "    ax[0].plot(nu*1e-9, I_all[s], color=color[s], label=label[s])\n",
    "    ax[0].grid()\n",
    "    ax[0].set(xlim=xlim, ylim=(0, 8), ylabel=r'$I$ [mJy / beam]')\n",
    "    #ax[0].xaxis.set_major_locator(ticker.MultipleLocator(1.0))\n",
    "    #ax[0].yaxis.set_minor_locator(ticker.MultipleLocator(1.0))\n",
    "    ax[0].legend()\n",
    "    \n",
    "    # tau\n",
    "    ax[1].plot(nu*1e-9, tau_all[s], color=color[s])\n",
    "    ax[1].grid()\n",
    "    ax[1].axhline(y=1.0, color='black', ls='--', lw=1.0)\n",
    "    ax[1].set(xlim=xlim, xlabel=r'$\\nu_0$ [GHz]', ylabel=r'$\\tau_0$', yscale='log', ylim=(1e-5, 5e3))\n",
    "\n",
    "plt.subplots_adjust(hspace=0.1)"
   ]
  },
  {
   "cell_type": "code",
   "execution_count": null,
   "metadata": {},
   "outputs": [],
   "source": []
  }
 ],
 "metadata": {
  "interpreter": {
   "hash": "c76dbff751ee8af7d35e84c041870fbc9f925b937d12682ed826ce189d4dba72"
  },
  "kernelspec": {
   "display_name": "Python 3.8.12 ('cycle9-deuterated-ammonia-eL_QLELK-py3.8')",
   "language": "python",
   "name": "python3"
  },
  "language_info": {
   "codemirror_mode": {
    "name": "ipython",
    "version": 3
   },
   "file_extension": ".py",
   "mimetype": "text/x-python",
   "name": "python",
   "nbconvert_exporter": "python",
   "pygments_lexer": "ipython3",
   "version": "3.8.12"
  },
  "orig_nbformat": 4
 },
 "nbformat": 4,
 "nbformat_minor": 2
}
