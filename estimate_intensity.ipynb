{
 "cells": [
  {
   "cell_type": "code",
   "execution_count": 1,
   "metadata": {},
   "outputs": [],
   "source": [
    "import numpy as np\n",
    "import astropy.units as u\n",
    "import astropy.constants as ac \n",
    "from astroquery.splatalogue import Splatalogue\n",
    "import astropy.units as u\n",
    "from helpers import generate_smart_table, LTEmodel, get_CDMS_partition_function\n",
    "\n",
    "ckms = ac.c.to(u.km/u.s).value\n"
   ]
  },
  {
   "cell_type": "code",
   "execution_count": 3,
   "metadata": {},
   "outputs": [
    {
     "name": "stdout",
     "output_type": "stream",
     "text": [
      "[1000.     500.     300.     225.     150.      75.      37.5     18.75\n",
      "    9.375    5.       2.725] [          nan           nan 1766.44451274 1141.03771632  623.73483548\n",
      "  225.42392122   84.10077541   34.80166322   17.21075808   12.53429755\n",
      "   12.01157618]\n",
      "[1000.     500.     300.     225.     150.      75.      37.5     18.75\n",
      "    9.375    5.       2.725] [          nan           nan 3793.14984974 2466.03933723 1346.79036263\n",
      "  481.61499484  174.58221529   64.90826491   25.46243891           nan\n",
      "           nan]\n",
      "[1000.     500.     300.     225.     150.      75.      37.5     18.75\n",
      "    9.375    5.       2.725] [          nan           nan 3970.08678112 2580.47704444 1407.99139304\n",
      "  502.68971537  181.55156628   67.06562867   25.95971977   12.52275835\n",
      "    9.05107159]\n",
      "[1000.     500.     300.     225.     150.      75.      37.5     18.75\n",
      "    9.375    5.       2.725] [          nan           nan 5313.73632119 3455.41329578 1886.68762122\n",
      "  673.13163273  242.54928571   89.43345319   35.28580258           nan\n",
      "           nan]\n"
     ]
    },
    {
     "data": {
      "text/plain": [
       "{'NH3': <Table length=14>\n",
       " Species       QNs       nu0 [GHz]  logA [s^-1] Smu2 [D^2]   g_u    E_u [K]  \n",
       "   str6       str15       float64     float64    float64   float64  float64  \n",
       " ------- --------------- ---------- ----------- ---------- ------- ----------\n",
       "  NH3v=0 10(1)0a-10(2)0a 319.876327    -8.57903    0.00029    42.0 1554.20729\n",
       "  NH3v=0 10(1)0s-10(2)0s 320.195675    -8.37844    0.00046    42.0 1553.63057\n",
       "  NH3v=0   9(1)0a-9(2)0a 322.373122     -8.7561    0.00017    38.0 1272.70067\n",
       "  NH3v=0   9(1)0s-9(2)0s 322.735616    -8.53037    0.00029    38.0 1272.04732\n",
       "  NH3v=0   8(1)0a-8(2)0a 324.663166    -8.95498      9e-05    34.0 1018.58102\n",
       "  NH3v=0   8(1)0s-8(2)0s   325.0697     -8.7038    0.00017    34.0 1017.84992\n",
       "  NH3v=0   7(1)0a-7(2)0a 326.733914    -9.18062      5e-05    30.0   792.0811\n",
       "  NH3v=0   7(1)0s-7(2)0s 327.184356    -8.90431      9e-05    30.0  791.27283\n",
       "  NH3v=0   6(1)0a-6(2)0a  328.57358     -9.4407      2e-05    26.0  593.41213\n",
       "  NH3v=0   6(1)0s-6(2)0s 329.066699    -9.14015      5e-05    26.0  592.52951\n",
       "  NH3v=0   5(1)0a-5(2)0a 330.171465    -9.74684      1e-05    22.0  422.76294\n",
       "  NH3v=0   5(1)0s-5(2)0s 330.704676    -9.42374      2e-05    22.0  421.81089\n",
       "  NH3v=0   4(1)0a-4(2)0a 331.518579   -10.12011        0.0    18.0  280.29785\n",
       "  NH3v=0   4(1)0s-4(2)0s 332.087474    -9.77675      1e-05    18.0  279.28362,\n",
       " 'NH2D': <Table length=26>\n",
       " Species         QNs          nu0 [GHz]  ... Smu2 [D^2]   g_u    E_u [K]  \n",
       "   str4         str27          float64   ...  float64   float64  float64  \n",
       " ------- ------------------- ----------- ... ---------- ------- ----------\n",
       "    NH2D   8(3,5)0s-9(0,9)0a 290.2263825 ...    0.01582   153.0  658.49364\n",
       "    NH2D   7(1,7)0s-6(3,4)0s 292.6279798 ...    0.00257   135.0  406.68295\n",
       "    NH2D 13(9,5)0a-14(6,9)0s 295.2265958 ...    0.01943    81.0 1933.94953\n",
       "    NH2D   9(4,6)0a-9(3,6)0s   296.42466 ...   83.03019   171.0  825.59792\n",
       "    NH2D   6(1,5)0s-5(4,1)0a 298.4394676 ...    0.16723   117.0  351.40165\n",
       "    NH2D   9(5,4)0s-8(7,1)0s 301.8715093 ...    0.00179   171.0  880.08968\n",
       "    NH2D   9(5,4)0a-8(7,1)0a 302.2247493 ...    0.00045    57.0  880.49035\n",
       "    NH2D   3(1,2)0a-3(1,3)0a 305.5261657 ...    0.08397    21.0  109.16449\n",
       "    NH2D   2(2,1)0a-2(1,1)0s   305.72367 ...   15.91768    45.0   72.23733\n",
       "    NH2D   3(1,2)0s-3(1,3)0s  306.019188 ...    0.32627    63.0  108.60589\n",
       "     ...                 ...         ... ...        ...     ...        ...\n",
       "    NH2D                  -- 332.7808554 ...    0.05467     3.0   16.55487\n",
       "    NH2D   1(0,1)0a-0(0,0)0a   332.78189 ...    0.49211    27.0   16.55492\n",
       "    NH2D                  -- 332.8215854 ...    0.01699     1.0   15.97283\n",
       "    NH2D   1(0,1)0s-0(0,0)0s   332.82251 ...    0.15294     9.0   15.97287\n",
       "    NH2D  9(5,5)0s-10(2,9)0a 332.9883028 ...    0.03769   171.0  877.42054\n",
       "    NH2D   5(2,3)0a-5(2,4)0a   338.27014 ...    0.45804    99.0  277.69512\n",
       "    NH2D   5(2,3)0s-5(2,4)0s   338.93283 ...    0.19826    33.0   277.1789\n",
       "    NH2D   7(3,4)0a-7(3,5)0a   340.33533 ...    0.22617    45.0  521.74408\n",
       "    NH2D   7(3,4)0s-7(3,5)0s   341.12063 ...    0.86406   135.0   521.2841\n",
       "    NH2D   8(5,4)0a-9(2,8)0s 348.7615877 ...    0.01194    51.0  730.53714,\n",
       " 'NHD2': <Table length=25>\n",
       " Species          QNs           nu0 [GHz]  ... Smu2 [D^2]   g_u    E_u [K]  \n",
       "   str4          str23           float64   ...  float64   float64  float64  \n",
       " ------- --------------------- ----------- ... ---------- ------- ----------\n",
       "    NHD2     9(1,8)0s-8(4,4)0a 290.1793266 ...    0.01929    57.0  574.39248\n",
       "    NHD2     7(4,4)0a-7(3,4)0s   292.81905 ...   15.74292    45.0  441.05711\n",
       "    NHD2    9(5,5)0s-10(2,9)0a 296.2720218 ...    0.01066   114.0  706.83578\n",
       "    NHD2     3(1,2)0a-3(0,3)0a   296.47708 ...    0.89386    42.0   89.10253\n",
       "    NHD2     3(1,2)0s-3(0,3)0s    296.6159 ...    0.47077    21.0   88.86388\n",
       "    NHD2     4(3,2)0a-4(2,2)0s   296.68833 ...   16.09847    54.0  170.29864\n",
       "    NHD2     9(1,8)0a-8(4,4)0s 298.9699709 ...    0.03863   114.0  574.62286\n",
       "    NHD2     5(3,2)0a-5(2,3)0a    309.7163 ...    2.29803    66.0  242.03862\n",
       "    NHD2     5(3,2)0s-5(2,3)0s   309.96221 ...    1.26662    33.0  241.82453\n",
       "    NHD2   12(6,7)0s-12(5,7)0a   318.72836 ...   26.42831    75.0  1196.9963\n",
       "     ...                   ...         ... ...        ...     ...        ...\n",
       "    NHD2   12(6,7)0a-12(5,7)0s    324.7794 ...   52.62772   150.0 1197.12944\n",
       "    NHD2     5(5,1)0s-6(2,5)0a 327.4612388 ...    0.00293    66.0  300.81549\n",
       "    NHD2 17(8,10)0a-17(7,10)0s 328.0982026 ...   37.46317   105.0 2319.11261\n",
       "    NHD2     2(2,1)0a-2(1,2)0a   332.19051 ...    0.57283    30.0   56.15425\n",
       "    NHD2     2(2,1)0s-2(1,2)0s   332.44593 ...     0.2056    15.0   55.92336\n",
       "    NHD2                    --  335.445431 ...    0.03335     1.0   16.34435\n",
       "    NHD2     1(1,1)0a-0(0,0)0a   335.44653 ...    0.30082     9.0    16.3444\n",
       "    NHD2                    --  335.512892 ...    0.05848     2.0   16.10199\n",
       "    NHD2     1(1,1)0s-0(0,0)0s   335.51401 ...    0.52721    18.0   16.10204\n",
       "    NHD2     2(2,0)0s-2(1,2)0a   346.35343 ...    3.57561    30.0   56.83396,\n",
       " 'ND3': <Table length=2>\n",
       " Species      QNs      nu0 [GHz] logA [s^-1] Smu2 [D^2]   g_u   E_u [K] \n",
       "   str3      str13      float64    float64    float64   float64 float64 \n",
       " ------- ------------- --------- ----------- ---------- ------- --------\n",
       "     ND3 1(0)0s-0(0)0a 306.73671    -3.60043    2.24112     3.0 14.79735\n",
       "     ND3 1(0)0a-0(0)0s 309.90949    -3.58706   22.40913    30.0 14.87322}"
      ]
     },
     "execution_count": 3,
     "metadata": {},
     "output_type": "execute_result"
    }
   ],
   "source": [
    "# lines of interest\n",
    "specie = [\n",
    "    \"NH3\",\n",
    "    \"NH2D\",\n",
    "    \"NHD2\",\n",
    "    \"ND3\",\n",
    "    # \"H2CS\",\n",
    "    # \"HDCS\",\n",
    "    # \"D2CS\"\n",
    "    # \"CH3OH\",\n",
    "    # \"CH3(18)OH\",\n",
    "    # \"(13)CH3OH\",\n",
    "    # \"CH2DOH\"\n",
    "    #\"CH3OCHO\"\n",
    "]  # spaces are needed to specify the particular ones\n",
    "pf_name = {\"NH3\": \"NH3-wHFS\",\n",
    "           \"NH2D\": \"NH2D\",\n",
    "           \"NHD2\": \"NHD2\",\n",
    "           \"ND3\": \"ND3\",\n",
    "           \"CH3OH\": \"CH3OH\",\n",
    "           \"CH3(18)OH\": \"CH3O-18-H\",\n",
    "           \"(13)CH3OH\": \"C-13-H3OH\",\n",
    "           \"CH2DOH\": \"CH2DOH\",\n",
    "           \"H2CS\": \"H2CS \",\n",
    "           \"HDCS\": \"HDCS\",\n",
    "           \"D2CS\": \"D2CS\"}\n",
    "\n",
    "# frequency range of interest \n",
    "nu_range = (290 * u.GHz, 350 * u.GHz)\n",
    "\n",
    "line_query = {}\n",
    "specie_id = {}\n",
    "pf = {}\n",
    "for s in specie:\n",
    "    if s == \"NH3\":\n",
    "        chemical_name = \" NH3 v=0 \"\n",
    "        #pf_name = \"NH3-wHFS\"\n",
    "    else:\n",
    "        chemical_name = \" {:s} \".format(s)\n",
    "        #pf_name = s\n",
    "    q = Splatalogue.query_lines(\n",
    "        *nu_range,\n",
    "        chemical_name=chemical_name,\n",
    "        line_lists=[\"CDMS\", \"JPL\"],\n",
    "        show_upper_degeneracy=True,\n",
    "        # line_strengths=[\"ls4\"],\n",
    "        # energy_type=\"eu_k\",\n",
    "    )\n",
    "    # id = Splatalogue.get_species_ids(chemical_name)\n",
    "    # specie_id[s] = id\n",
    "    line_query[s] = generate_smart_table(q, hfs=False)\n",
    "    pf[s] = get_CDMS_partition_function(pf_name[s])\n",
    "line_query"
   ]
  },
  {
   "cell_type": "code",
   "execution_count": 7,
   "metadata": {},
   "outputs": [
    {
     "data": {
      "image/png": "[encoded data removed]",
      "text/plain": [
       "<Figure size 432x576 with 2 Axes>"
      ]
     },
     "metadata": {
      "needs_background": "light"
     },
     "output_type": "display_data"
    }
   ],
   "source": [
    "# assume IRAS 16293 abundance\n",
    "# specie = [\"NH2D\", \"NHD2\"]\n",
    "\n",
    "N = {'NH3': 5.3e20 * 0.05,\n",
    "     'NH2D': 5.3e20 * 0.05 * 4e-3,\n",
    "     'NHD2': 5.3e20 * 0.05 * 4e-3 * 1.8e-2,\n",
    "     'ND3': 5.3e20 * 0.05 * 4e-3 * 1.8e-2 * 1.7e-2,\n",
    "     'H2CS': 1.5e15,\n",
    "     'HDCS': 1.5e14,\n",
    "     'D2CS': 1.0e14\n",
    "     #'15NH3': 5.3e20 * 0.05 / 300.\n",
    "    }\n",
    "\n",
    "# N = {'NH3': 9.5e19,\n",
    "#      'NH2D': 3.8e17,\n",
    "#      'NHD2': 6.9e15,\n",
    "#      'ND3': 5.3e20 * 0.05 * 4e-3 * 1.8e-2 * 1.8e-1,\n",
    "#      \"CH3OH\": 1.3e19\n",
    "#      #'15NH3': 5.3e20 * 0.05 / 300.\n",
    "#     }\n",
    "\n",
    "# N = {\"NH2D\": 4.9e17,\n",
    "#      \"NHD2\": 8.8e15,\n",
    "#      \"ND3\": 1.5e14}\n",
    "\n",
    "#Tex = 130\n",
    "Tex = 1000\n",
    "# Tex = 160\n",
    "DeltaV = 2.5\n",
    "\n",
    "beam = 0.5 * u.arcsec # in arcsec\n",
    "source_size = 0.5 * u.arcsec # in arcsec\n",
    "f = source_size ** 2 / (source_size ** 2 + beam ** 2)\n",
    "beam_area = np.pi / (4 * np.log(2)) * beam ** 2\n",
    "\n",
    "# axis\n",
    "nu_min = nu_range[0].value*1e9\n",
    "nu_max = nu_range[1].value*1e9\n",
    "dnu = nu_min / ckms * DeltaV / 5.0\n",
    "nu = np.arange(nu_min, nu_max, dnu)\n",
    "\n",
    "I_all = {}\n",
    "tau_all = {}\n",
    "for s in specie:\n",
    "    I_all_s = 0\n",
    "    tau_all_s = 0\n",
    "    for trans in line_query[s]:\n",
    "        I, t = LTEmodel(\n",
    "            nu=nu,\n",
    "            nu0=trans[\"nu0 [GHz]\"] * 1e9,\n",
    "            g_u=trans[\"g_u\"],\n",
    "            E_u=trans[\"E_u [K]\"],\n",
    "            A_ul=10 ** trans[\"logA [s^-1]\"],\n",
    "            N=N[s],\n",
    "            Tex=Tex,\n",
    "            DeltaV=DeltaV,\n",
    "            f=f,\n",
    "            Q=pf[s](Tex),\n",
    "        )\n",
    "\n",
    "        \n",
    "\n",
    "        I_all_s += I.to(u.Jy/u.sr)\n",
    "        tau_all_s += t\n",
    "    I_all[s] = I_all_s.to(u.mJy/u.beam, equivalencies=u.beam_angular_area(beam_area))\n",
    "    tau_all[s] = tau_all_s\n",
    "I_all\n",
    "import matplotlib.pyplot as plt\n",
    "from matplotlib import ticker\n",
    "\n",
    "plt.rcParams['font.size'] = 13\n",
    "\n",
    "fig, ax = plt.subplots(2, 1, figsize=(6, 8), sharex=True)\n",
    "\n",
    "xlim = (293.8, 350)\n",
    "# xlim = (309.8, 310)\n",
    "#xlim = (318, 322)\n",
    "# xlim = (309.25, 310)\n",
    "# xlim = (309.9, 309.92)\n",
    "color = {'NH2D': 'tab:blue',\n",
    "         'NHD2': 'tab:orange',\n",
    "         'ND3': 'tab:purple',\n",
    "         \"CH3OH\": \"tab:green\"\n",
    "         #\"ND3\": \"tab:green\",\n",
    "         }\n",
    "\n",
    "label = {'NH3': 'NH$_3$',\n",
    "         'NH2D': 'NH$_2$D',\n",
    "         'NHD2': 'NHD$_2$',\n",
    "         'ND3': 'ND$_3$',\n",
    "         \"CH3OH\": \"CH$_3$OH\",\n",
    "         \"H2CS\": \"H$_2$CS\",\n",
    "         \"HDCS\": \"HDCS\",\n",
    "         \"D2CS\": \"D$_2$CS\"}\n",
    "\n",
    "for s in specie:\n",
    "    # intenisty\n",
    "    ax[0].plot(nu*1e-9, I_all[s], label=label[s])\n",
    "    ax[0].set(xlim=xlim, ylim=(0, 2), ylabel=r'$I$ [mJy / beam]')\n",
    "    #ax[0].xaxis.set_major_locator(ticker.MultipleLocator(1.0))\n",
    "    #ax[0].yaxis.set_minor_locator(ticker.MultipleLocator(1.0))\n",
    "    ax[0].legend()\n",
    "    \n",
    "    # tau\n",
    "    ax[1].plot(nu*1e-9, tau_all[s])\n",
    "    ax[1].axhline(y=1.0, color='black', ls='--', lw=1.0)\n",
    "    ax[1].set(xlim=xlim, xlabel=r'$\\nu_0$ [GHz]', ylabel=r'$\\tau_0$', yscale='log', ylim=(1e-5, 5e3))\n",
    "\n",
    "ax[0].grid()\n",
    "ax[1].grid()\n",
    "plt.subplots_adjust(hspace=0.1)"
   ]
  },
  {
   "cell_type": "code",
   "execution_count": 7,
   "metadata": {},
   "outputs": [
    {
     "data": {
      "image/png": "[encoded data removed]",
      "text/plain": [
       "<Figure size 432x576 with 2 Axes>"
      ]
     },
     "metadata": {
      "needs_background": "light"
     },
     "output_type": "display_data"
    }
   ],
   "source": [
    "# IRAS 4A2\n",
    "\n",
    "N = {\"NH2D\": 4.9e17,\n",
    "     \"NHD2\": 4.9e17 * 1.8e-2,\n",
    "     \"ND3\": 4.9e17 * 1.8e-2 * 1.7e-2}\n",
    "\n",
    "# N = {\"NH2D\": 1.7e19 * 0.05 * 4e-3,\n",
    "#      \"NHD2\": 1.7e19 * 0.05 * 4e-3 * 1.8e-2,\n",
    "#      \"ND3\": 1.7e19 * 0.05 * 4e-3 * 1.8e-2 * 1.7e-2\n",
    "#      }\n",
    "\n",
    "# N_H2O = 1.7e19\n",
    "# N = {'NH3': N_H2O * 0.05,\n",
    "#      'NH2D': N_H2O * 0.05 * 4e-3,\n",
    "#      'NHD2': N_H2O * 0.05 * 4e-3 * 1.8e-2,\n",
    "#      'ND3': N_H2O * 0.05 * 4e-3 * 1.8e-2 * 1.7e-2,\n",
    "#      #'15NH3': 5.3e20 * 0.05 / 300.\n",
    "#     }\n",
    "\n",
    "tau300 = 0.6\n",
    "\n",
    "# Tex = 130\n",
    "# Tex = 200\n",
    "Tex = 160\n",
    "DeltaV = 3\n",
    "\n",
    "beam = 0.5 * u.arcsec # in arcsec\n",
    "source_size = 0.5 * u.arcsec # in arcsec\n",
    "f = source_size ** 2 / (source_size ** 2 + beam ** 2)\n",
    "beam_area = np.pi / (4 * np.log(2)) * beam ** 2\n",
    "\n",
    "# axis\n",
    "nu_min = nu_range[0].value*1e9\n",
    "nu_max = nu_range[1].value*1e9\n",
    "dnu = nu_min / ckms * DeltaV / 5.0\n",
    "nu = np.arange(nu_min, nu_max, dnu)\n",
    "\n",
    "I_all = {}\n",
    "tau_all = {}\n",
    "for s in specie:\n",
    "    I_all_s = 0\n",
    "    tau_all_s = 0\n",
    "    for trans in line_query[s]:\n",
    "        I, t = LTEmodel(\n",
    "            nu=nu,\n",
    "            nu0=trans[\"nu0 [GHz]\"] * 1e9,\n",
    "            g_u=trans[\"g_u\"],\n",
    "            E_u=trans[\"E_u [K]\"],\n",
    "            A_ul=10 ** trans[\"logA [s^-1]\"],\n",
    "            N=N[s],\n",
    "            Tex=Tex,\n",
    "            DeltaV=DeltaV,\n",
    "            f=f,\n",
    "            Q=pf[s](Tex),\n",
    "        )\n",
    "\n",
    "        \n",
    "\n",
    "        I_all_s += I.to(u.Jy/u.sr)\n",
    "        tau_all_s += t\n",
    "    I_all[s] = I_all_s.to(u.mJy/u.beam, equivalencies=u.beam_angular_area(beam_area)) * np.exp(-tau300)\n",
    "    tau_all[s] = tau_all_s\n",
    "\n",
    "\n",
    "import matplotlib.pyplot as plt\n",
    "from matplotlib import ticker\n",
    "\n",
    "plt.rcParams['font.size'] = 13\n",
    "\n",
    "fig, ax = plt.subplots(2, 1, figsize=(6, 8), sharex=True)\n",
    "\n",
    "xlim = (293.8, 310)\n",
    "xlim = (309.9, 309.92)\n",
    "#xlim = (318, 322)\n",
    "# xlim = (296.5, 296.7)\n",
    "color = {'NH2D': 'tab:blue',\n",
    "         'NHD2': 'tab:orange',\n",
    "         'ND3': 'tab:purple',\n",
    "         \"CH3OH\": \"tab:green\"\n",
    "         #\"ND3\": \"tab:green\",\n",
    "         }\n",
    "\n",
    "label = {'NH3': 'NH$_3$',\n",
    "         'NH2D': 'NH$_2$D',\n",
    "         'NHD2': 'NHD$_2$',\n",
    "         'ND3': 'ND$_3$',\n",
    "         \"CH3OH\": \"CH$_3$OH\"}\n",
    "\n",
    "label = {'NH3': 'NH$_3$',\n",
    "         'NH2D': 'NH$_2$D',\n",
    "         'NHD2': 'NHD$_2$',\n",
    "         'ND3': 'ND$_3$',\n",
    "         \"CH3OH\": \"CH$_3$OH\",\n",
    "         \"H2CS\": \"H$_2$CS\",\n",
    "         \"HDCS\": \"HDCS\",\n",
    "         \"D2CS\": \"D$_2$CS\"}\n",
    "\n",
    "for s in specie:\n",
    "    # intenisty\n",
    "    ax[0].plot(nu*1e-9, I_all[s], color=color[s], label=label[s])\n",
    "    ax[0].set(xlim=xlim, ylim=(0, 10), ylabel=r'$I$ [mJy / beam]')\n",
    "    #ax[0].xaxis.set_major_locator(ticker.MultipleLocator(1.0))\n",
    "    #ax[0].yaxis.set_minor_locator(ticker.MultipleLocator(1.0))\n",
    "    ax[0].legend()\n",
    "    \n",
    "    # tau\n",
    "    ax[1].plot(nu*1e-9, tau_all[s], color=color[s])\n",
    "    ax[1].axhline(y=1.0, color='black', ls='--', lw=1.0)\n",
    "    ax[1].set(xlim=xlim, xlabel=r'$\\nu_0$ [GHz]', ylabel=r'$\\tau_0$', yscale='log', ylim=(1e-5, 5e3))\n",
    "\n",
    "ax[0].grid()\n",
    "ax[1].grid()\n",
    "plt.subplots_adjust(hspace=0.1)"
   ]
  },
  {
   "cell_type": "code",
   "execution_count": 5,
   "metadata": {},
   "outputs": [
    {
     "data": {
      "text/plain": [
       "1.3333333333333333"
      ]
     },
     "execution_count": 5,
     "metadata": {},
     "output_type": "execute_result"
    }
   ],
   "source": [
    "4/3"
   ]
  },
  {
   "cell_type": "code",
   "execution_count": 9,
   "metadata": {},
   "outputs": [
    {
     "data": {
      "text/plain": [
       "2.499999"
      ]
     },
     "execution_count": 9,
     "metadata": {},
     "output_type": "execute_result"
    }
   ],
   "source": [
    "0.833333*3"
   ]
  },
  {
   "cell_type": "code",
   "execution_count": 17,
   "metadata": {},
   "outputs": [
    {
     "data": {
      "text/plain": [
       "8268000000000.0"
      ]
     },
     "execution_count": 17,
     "metadata": {},
     "output_type": "execute_result"
    }
   ],
   "source": [
    "5.3e20 * 0.05 * 4e-3 *1.3e-2 * 6.0e-3"
   ]
  },
  {
   "cell_type": "code",
   "execution_count": 11,
   "metadata": {},
   "outputs": [
    {
     "data": {
      "text/plain": [
       "38220000000000.0"
      ]
     },
     "execution_count": 11,
     "metadata": {},
     "output_type": "execute_result"
    }
   ],
   "source": [
    "4.9e17*1.3e-2*6.0e-3"
   ]
  },
  {
   "cell_type": "code",
   "execution_count": 12,
   "metadata": {},
   "outputs": [
    {
     "data": {
      "text/plain": [
       "0.5488116360940265"
      ]
     },
     "execution_count": 12,
     "metadata": {},
     "output_type": "execute_result"
    }
   ],
   "source": [
    "np.exp(-0.6)"
   ]
  },
  {
   "cell_type": "code",
   "execution_count": null,
   "metadata": {},
   "outputs": [],
   "source": []
  }
 ],
 "metadata": {
  "interpreter": {
   "hash": "c76dbff751ee8af7d35e84c041870fbc9f925b937d12682ed826ce189d4dba72"
  },
  "kernelspec": {
   "display_name": "Python 3.8.12 ('cycle9-deuterated-ammonia-eL_QLELK-py3.8')",
   "language": "python",
   "name": "python3"
  },
  "language_info": {
   "codemirror_mode": {
    "name": "ipython",
    "version": 3
   },
   "file_extension": ".py",
   "mimetype": "text/x-python",
   "name": "python",
   "nbconvert_exporter": "python",
   "pygments_lexer": "ipython3",
   "version": "3.8.12"
  },
  "orig_nbformat": 4
 },
 "nbformat": 4,
 "nbformat_minor": 2
}
